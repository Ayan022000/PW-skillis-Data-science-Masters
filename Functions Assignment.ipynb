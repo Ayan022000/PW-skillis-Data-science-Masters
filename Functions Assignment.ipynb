{
 "cells": [
  {
   "cell_type": "markdown",
   "id": "2c89dfac",
   "metadata": {},
   "source": [
    "# Q 1."
   ]
  },
  {
   "cell_type": "markdown",
   "id": "506af75b",
   "metadata": {},
   "source": [
    "## Which keyword is used to create a function? Create a function to return a list of odd numbers in the range of 1 to 25."
   ]
  },
  {
   "cell_type": "markdown",
   "id": "f7bd2926",
   "metadata": {},
   "source": [
    "\"def\" keyword is used to create a function."
   ]
  },
  {
   "cell_type": "code",
   "execution_count": 1,
   "id": "cf8f029b",
   "metadata": {},
   "outputs": [],
   "source": [
    "def func():\n",
    "    n=[]\n",
    "    for i in range(1,25):\n",
    "        if i%2 != 0:\n",
    "            n.append(i)\n",
    "    return n        "
   ]
  },
  {
   "cell_type": "code",
   "execution_count": 2,
   "id": "69b68605",
   "metadata": {},
   "outputs": [
    {
     "data": {
      "text/plain": [
       "[1, 3, 5, 7, 9, 11, 13, 15, 17, 19, 21, 23]"
      ]
     },
     "execution_count": 2,
     "metadata": {},
     "output_type": "execute_result"
    }
   ],
   "source": [
    "func()"
   ]
  },
  {
   "cell_type": "markdown",
   "id": "8bd14a19",
   "metadata": {},
   "source": [
    "# Q 2."
   ]
  },
  {
   "cell_type": "markdown",
   "id": "78d36e6d",
   "metadata": {},
   "source": [
    "## Why *args and **kwargs is used in some functions? Create a function each for *args and **kwargs to demonstrate their use."
   ]
  },
  {
   "cell_type": "markdown",
   "id": "e257c445",
   "metadata": {},
   "source": [
    "\"*args\" and \"**kwargs\" are special syntax in Python used to pass a variable number of arguments to a function.\n",
    "\n",
    "The *args syntax is used to pass a variable number of non-keyword arguments to a function. This is useful when you don't know how many arguments you will need to pass in advance. The *args syntax allows you to pass any number of arguments to the function, and they will be collected into a tuple.\n",
    "\n",
    "Here's an example function that uses *args:"
   ]
  },
  {
   "cell_type": "code",
   "execution_count": 3,
   "id": "d0c0ba1a",
   "metadata": {},
   "outputs": [],
   "source": [
    "def func1(*args):\n",
    "    return args"
   ]
  },
  {
   "cell_type": "code",
   "execution_count": 4,
   "id": "868e6273",
   "metadata": {},
   "outputs": [
    {
     "data": {
      "text/plain": [
       "(1, 2, 3, 4, 5)"
      ]
     },
     "execution_count": 4,
     "metadata": {},
     "output_type": "execute_result"
    }
   ],
   "source": [
    "func1(1,2,3,4,5)"
   ]
  },
  {
   "cell_type": "markdown",
   "id": "d38ded5c",
   "metadata": {},
   "source": [
    "The **kwargs syntax is used to pass a variable number of keyword arguments to a function. This is useful when you want to pass a dictionary of arguments to a function, but you don't know the keys in advance. The **kwargs syntax allows you to pass any number of keyword arguments to the function, and they will be collected into a dictionary.\n",
    "\n",
    "Here's an example function that uses **kwargs:"
   ]
  },
  {
   "cell_type": "code",
   "execution_count": 13,
   "id": "02a78455",
   "metadata": {},
   "outputs": [],
   "source": [
    "def func2(**kwargs):\n",
    "    return kwargs"
   ]
  },
  {
   "cell_type": "code",
   "execution_count": 14,
   "id": "8c17cbf7",
   "metadata": {},
   "outputs": [
    {
     "data": {
      "text/plain": [
       "{'apple': 1, 'banana': 4, 'mango': 8}"
      ]
     },
     "execution_count": 14,
     "metadata": {},
     "output_type": "execute_result"
    }
   ],
   "source": [
    "func2(apple=1,banana=4,mango=8)"
   ]
  },
  {
   "cell_type": "markdown",
   "id": "a2346213",
   "metadata": {},
   "source": [
    "# Q 3."
   ]
  },
  {
   "cell_type": "markdown",
   "id": "0509d49f",
   "metadata": {},
   "source": [
    "## What is an iterator in python? Name the method used to initialise the iterator object and the method used for iteration. Use these methods to print the first five elements of the given list [2, 4, 6, 8, 10, 12, 14, 16,18, 20]."
   ]
  },
  {
   "cell_type": "markdown",
   "id": "80addf03",
   "metadata": {},
   "source": [
    "An iterator in Python is an object that allows us to iterate over a sequence of values, one at a time. Iterators can be used to traverse elements of a sequence such as lists, tuples, dictionaries, and sets.\n",
    "\n",
    "To initialize an iterator object in Python, we can use the iter() method. This method takes a sequence as an argument and returns an iterator object that can be used to iterate over the sequence.\n",
    "\n",
    "To iterate over the elements of an iterator object, we can use the next() method. This method returns the next element in the sequence each time it is called until the end of the sequence is reached."
   ]
  },
  {
   "cell_type": "code",
   "execution_count": 20,
   "id": "ef1d0502",
   "metadata": {},
   "outputs": [
    {
     "name": "stdout",
     "output_type": "stream",
     "text": [
      "2\n",
      "4\n",
      "6\n",
      "8\n",
      "10\n"
     ]
    }
   ],
   "source": [
    "my_list = [2, 4, 6, 8, 10, 12, 14, 16, 18, 20]\n",
    "my_iterator = iter(my_list)\n",
    "\n",
    "for i in range(5):\n",
    "    print(next(my_iterator))\n"
   ]
  },
  {
   "cell_type": "markdown",
   "id": "bfbf748e",
   "metadata": {},
   "source": [
    "# Q 4."
   ]
  },
  {
   "cell_type": "markdown",
   "id": "e317309f",
   "metadata": {},
   "source": [
    "## What is a generator function in python? Why yield keyword is used? Give an example of a generator function."
   ]
  },
  {
   "cell_type": "markdown",
   "id": "3744d642",
   "metadata": {},
   "source": [
    "In Python, a generator function is a special type of function that allows us to generate a sequence of values one at a time, rather than generating all the values at once. It is a way to create an iterator in a more concise and readable way.\n",
    "\n",
    "The main difference between a regular function and a generator function is that a regular function returns a value and then terminates, while a generator function can pause execution and resume again later from where it left off, allowing it to produce a series of values.\n",
    "\n",
    "The yield keyword is used in a generator function to indicate where the function should pause its execution and yield a value. When the function is called again, it resumes its execution from where it left off and continues until it reaches another yield statement or the end of the function.\n",
    "\n",
    "Here is an example of a generator function that generates the Fibonacci sequence:"
   ]
  },
  {
   "cell_type": "code",
   "execution_count": 25,
   "id": "bb2ba7ca",
   "metadata": {},
   "outputs": [],
   "source": [
    "def fibonacci(n):\n",
    "    a, b = 0, 1\n",
    "    for i in range(n):\n",
    "        yield a\n",
    "        a, b = b, a + b\n"
   ]
  },
  {
   "cell_type": "code",
   "execution_count": 27,
   "id": "fecd7e98",
   "metadata": {},
   "outputs": [
    {
     "name": "stdout",
     "output_type": "stream",
     "text": [
      "0\n",
      "1\n",
      "1\n",
      "2\n",
      "3\n",
      "5\n",
      "8\n",
      "13\n",
      "21\n",
      "34\n"
     ]
    }
   ],
   "source": [
    "for i in fibonacci(10):\n",
    "    print(i)"
   ]
  },
  {
   "cell_type": "markdown",
   "id": "a934991b",
   "metadata": {},
   "source": [
    "# Q 5."
   ]
  },
  {
   "cell_type": "markdown",
   "id": "c77c58b5",
   "metadata": {},
   "source": [
    "## Create a generator function for prime numbers less than 1000. Use the next() method to print the first 20 prime numbers."
   ]
  },
  {
   "cell_type": "code",
   "execution_count": 28,
   "id": "988e527f",
   "metadata": {},
   "outputs": [],
   "source": [
    "def primes():\n",
    "    yield 2\n",
    "    primes_list = [2]\n",
    "    n = 3\n",
    "    while n < 1000:\n",
    "        is_prime = True\n",
    "        for prime in primes_list:\n",
    "            if n % prime == 0:\n",
    "                is_prime = False\n",
    "                break\n",
    "        if is_prime:\n",
    "            primes_list.append(n)\n",
    "            yield n\n",
    "        n += 2\n"
   ]
  },
  {
   "cell_type": "code",
   "execution_count": 32,
   "id": "17499c2c",
   "metadata": {},
   "outputs": [
    {
     "name": "stdout",
     "output_type": "stream",
     "text": [
      "2 3 5 7 11 13 17 19 23 29 31 37 41 43 47 53 59 61 67 71 "
     ]
    }
   ],
   "source": [
    "p=primes()\n",
    "for i in range(20):\n",
    "    print(next(p),end=\" \")\n",
    "    "
   ]
  },
  {
   "cell_type": "markdown",
   "id": "204134cb",
   "metadata": {},
   "source": [
    "# Thank You"
   ]
  }
 ],
 "metadata": {
  "kernelspec": {
   "display_name": "Python 3 (ipykernel)",
   "language": "python",
   "name": "python3"
  },
  "language_info": {
   "codemirror_mode": {
    "name": "ipython",
    "version": 3
   },
   "file_extension": ".py",
   "mimetype": "text/x-python",
   "name": "python",
   "nbconvert_exporter": "python",
   "pygments_lexer": "ipython3",
   "version": "3.9.13"
  }
 },
 "nbformat": 4,
 "nbformat_minor": 5
}
