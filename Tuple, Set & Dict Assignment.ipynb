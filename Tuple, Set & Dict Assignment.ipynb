{
 "cells": [
  {
   "cell_type": "markdown",
   "id": "9e850069",
   "metadata": {},
   "source": [
    "# Q 1."
   ]
  },
  {
   "cell_type": "markdown",
   "id": "e950765f",
   "metadata": {},
   "source": [
    "## What are the characteristics of the tuples?"
   ]
  },
  {
   "cell_type": "markdown",
   "id": "e32bb469",
   "metadata": {},
   "source": [
    "1.Ordered: The elements in a tuple are ordered and their positions are fixed.\n",
    "\n",
    "2.Immutable: Once a tuple is created, its contents cannot be modified. This means that you cannot add, remove or modify items in a tuple.\n",
    "\n",
    "3.Heterogeneous: Tuples can contain objects of different types (e.g., integers, floats, strings, etc.).\n",
    "\n",
    "4.Indexed: Tuples are indexed using integers, and you can access individual elements using their index.\n",
    "\n",
    "5.Iteratable: Tuples are iterable, which means that you can loop through the elements in a tuple using a for loop.\n",
    "\n",
    "6.Hashable: Tuples are hashable, which means that you can use them as keys in dictionaries and as elements in sets.\n",
    "\n",
    "7.Memory efficient: Tuples are more memory-efficient than lists, especially when the number of elements is small. This is because tuples are stored as a single block of memory, whereas lists require multiple blocks of memory."
   ]
  },
  {
   "cell_type": "markdown",
   "id": "7cbbf09a",
   "metadata": {},
   "source": [
    "### Is tuple immutable?"
   ]
  },
  {
   "cell_type": "markdown",
   "id": "f6402917",
   "metadata": {},
   "source": [
    "Yes , tuple is immutable"
   ]
  },
  {
   "cell_type": "markdown",
   "id": "814823a1",
   "metadata": {},
   "source": [
    "# Q 2."
   ]
  },
  {
   "cell_type": "markdown",
   "id": "4c99719a",
   "metadata": {},
   "source": [
    "## What are the two tuple methods in python? Give an example of each method."
   ]
  },
  {
   "cell_type": "markdown",
   "id": "e3edd601",
   "metadata": {},
   "source": [
    "There are two tuple methods in Python:\n",
    "\n",
    "1. count(): This method returns the number of occurrences of a specified value in a tuple.\n",
    "Example below:"
   ]
  },
  {
   "cell_type": "code",
   "execution_count": 4,
   "id": "16d5d170",
   "metadata": {},
   "outputs": [
    {
     "name": "stdout",
     "output_type": "stream",
     "text": [
      "3\n"
     ]
    }
   ],
   "source": [
    "my_tuple = (1, 2, 3, 3, 4, 3)\n",
    "count_of_3 = my_tuple.count(3)\n",
    "print(count_of_3) "
   ]
  },
  {
   "cell_type": "markdown",
   "id": "9c8fc314",
   "metadata": {},
   "source": [
    "2. index(): This method returns the index of the first occurrence of a specified value in a tuple.\n",
    "Example:"
   ]
  },
  {
   "cell_type": "code",
   "execution_count": 5,
   "id": "8090d5a4",
   "metadata": {},
   "outputs": [
    {
     "name": "stdout",
     "output_type": "stream",
     "text": [
      "1\n"
     ]
    }
   ],
   "source": [
    "my_tuple2 = ('apple', 'banana', 'cherry', 'banana')\n",
    "index_of_banana = my_tuple2.index('banana')\n",
    "print(index_of_banana)"
   ]
  },
  {
   "cell_type": "markdown",
   "id": "23d72c1a",
   "metadata": {},
   "source": [
    "### Give a reason why tuples have only two in-built methods as compared to Lists."
   ]
  },
  {
   "cell_type": "markdown",
   "id": "cc207d13",
   "metadata": {},
   "source": [
    "Tuples have only two in-built methods (i.e., count() and index()) compared to lists because tuples are designed to be immutable, while lists are designed to be mutable. This means that once a tuple is created, its contents cannot be modified, whereas lists can be modified (e.g., elements can be added, removed, or modified)."
   ]
  },
  {
   "cell_type": "markdown",
   "id": "2d0c4e08",
   "metadata": {},
   "source": [
    "# Q 3."
   ]
  },
  {
   "cell_type": "markdown",
   "id": "715c6565",
   "metadata": {},
   "source": [
    "## Which collection datatypes in python do not allow duplicate items?"
   ]
  },
  {
   "cell_type": "markdown",
   "id": "829b40e2",
   "metadata": {},
   "source": [
    "In Python, there are two collection data types that do not allow duplicate items:\n",
    "\n",
    "1. Set: A set is an unordered collection of unique elements. When you create a set, Python automatically removes any duplicate items.\n",
    "2. Dictionary: A dictionary is a collection of key-value pairs, where each key is unique. If you try to add a new key-value pair with a key that already exists in the dictionary, the old value associated with that key will be overwritten."
   ]
  },
  {
   "cell_type": "markdown",
   "id": "159e9117",
   "metadata": {},
   "source": [
    "### Write a code using a set to remove duplicates from the given list."
   ]
  },
  {
   "cell_type": "code",
   "execution_count": 6,
   "id": "b8814b5a",
   "metadata": {},
   "outputs": [
    {
     "name": "stdout",
     "output_type": "stream",
     "text": [
      "{1, 2, 3, 4}\n"
     ]
    }
   ],
   "source": [
    "List = [1, 1, 1, 2, 1, 3, 1, 4, 2, 1, 2, 2, 2, 3, 2, 4, 3, 1, 3, 2, 3, 3, 3, 4, 4, 1, 4, 2, 4, 3, 4, 4]\n",
    "set=set(List)\n",
    "print(set)"
   ]
  },
  {
   "cell_type": "markdown",
   "id": "849e6478",
   "metadata": {},
   "source": [
    "# Q 4."
   ]
  },
  {
   "cell_type": "markdown",
   "id": "0e68159e",
   "metadata": {},
   "source": [
    "## Explain the difference between the union() and update() methods for a set. Give an example of each method."
   ]
  },
  {
   "cell_type": "markdown",
   "id": "c05defb0",
   "metadata": {},
   "source": [
    "Both union() and update() methods are used to combine two or more sets in Python. However, they differ in how they modify the original sets.\n",
    "\n",
    "The union() method creates a new set that contains all the unique elements from both sets, without modifying the original sets. The resulting set will contain only one instance of each element, even if the original sets contain duplicates.\n",
    "\n",
    "Example:"
   ]
  },
  {
   "cell_type": "code",
   "execution_count": 7,
   "id": "f458ce95",
   "metadata": {},
   "outputs": [
    {
     "name": "stdout",
     "output_type": "stream",
     "text": [
      "{1, 2, 3, 4, 5}\n"
     ]
    }
   ],
   "source": [
    "set1 = {1, 2, 3}\n",
    "set2 = {3, 4, 5}\n",
    "union_set = set1.union(set2)\n",
    "print(union_set) "
   ]
  },
  {
   "cell_type": "markdown",
   "id": "44658834",
   "metadata": {},
   "source": [
    "The update() method, on the other hand, modifies the original set by adding all the elements from another set to it. If the other set contains elements that already exist in the original set, they are ignored.\n",
    "\n",
    "Example:"
   ]
  },
  {
   "cell_type": "code",
   "execution_count": 8,
   "id": "1b75668a",
   "metadata": {},
   "outputs": [
    {
     "name": "stdout",
     "output_type": "stream",
     "text": [
      "{1, 2, 3, 4, 5}\n"
     ]
    }
   ],
   "source": [
    "set3 = {1, 2, 3}\n",
    "set4 = {3, 4, 5}\n",
    "set3.update(set4)\n",
    "print(set3)  "
   ]
  },
  {
   "cell_type": "markdown",
   "id": "3e4f791b",
   "metadata": {},
   "source": [
    "# Q 5. "
   ]
  },
  {
   "cell_type": "markdown",
   "id": "2b7b7823",
   "metadata": {},
   "source": [
    "## What is a dictionary? Give an example. Also, state whether a dictionary is ordered or unordered."
   ]
  },
  {
   "cell_type": "markdown",
   "id": "fd00f118",
   "metadata": {},
   "source": [
    "A dictionary is a collection of key-value pairs, where each key is unique and used to access its corresponding value. Dictionaries are enclosed in curly braces ({}) and each key-value pair is separated by a colon (:). Dictionaries are one of the built-in data types in Python.\n",
    "Example:"
   ]
  },
  {
   "cell_type": "code",
   "execution_count": 1,
   "id": "699a39ad",
   "metadata": {},
   "outputs": [],
   "source": [
    "my_dict = {\"apple\": 2, \"banana\": 4, \"orange\": 1}"
   ]
  },
  {
   "cell_type": "markdown",
   "id": "6e05f8f2",
   "metadata": {},
   "source": [
    "Dictionaries in Python are unordered, meaning that the order of the keys is not guaranteed to be preserved. When iterating over a dictionary, the order of the keys may appear to be arbitrary."
   ]
  },
  {
   "cell_type": "markdown",
   "id": "a507d1af",
   "metadata": {},
   "source": [
    "# Q 6."
   ]
  },
  {
   "cell_type": "markdown",
   "id": "415923eb",
   "metadata": {},
   "source": [
    "## Can we create a nested dictionary? If so, please give an example by creating a simple one-level nested dictionary."
   ]
  },
  {
   "cell_type": "markdown",
   "id": "16fe4f34",
   "metadata": {},
   "source": [
    "yes ,we can create a nested dictionary in python.\n",
    "Example:"
   ]
  },
  {
   "cell_type": "code",
   "execution_count": 3,
   "id": "afd29ef4",
   "metadata": {},
   "outputs": [],
   "source": [
    "nested_dict={'key1':1,'key2':{'key3':3,'key4':4}}"
   ]
  },
  {
   "cell_type": "markdown",
   "id": "0f50507b",
   "metadata": {},
   "source": [
    "# Q 7."
   ]
  },
  {
   "cell_type": "markdown",
   "id": "cc5c7399",
   "metadata": {},
   "source": [
    "## Using setdefault() method, create key named topics in the given dictionary and also add the value of the key as this list ['Python', 'Machine Learning’, 'Deep Learning']"
   ]
  },
  {
   "cell_type": "code",
   "execution_count": 9,
   "id": "3e709c1c",
   "metadata": {},
   "outputs": [
    {
     "data": {
      "text/plain": [
       "{'language': 'Python',\n",
       " 'course': 'Data Science Masters',\n",
       " 'Topics': ['Python', 'Machine Learning', 'Deep Learning']}"
      ]
     },
     "execution_count": 9,
     "metadata": {},
     "output_type": "execute_result"
    }
   ],
   "source": [
    "dict1 = {'language' : 'Python', 'course': 'Data Science Masters'}\n",
    "dict2=dict1.setdefault('Topics',['Python', 'Machine Learning', 'Deep Learning'])\n",
    "\n",
    "dict1"
   ]
  },
  {
   "cell_type": "markdown",
   "id": "875d9d1d",
   "metadata": {},
   "source": [
    "# Q 8."
   ]
  },
  {
   "cell_type": "markdown",
   "id": "0bffcdf7",
   "metadata": {},
   "source": [
    "## What are the three view objects in dictionaries? Use the three in-built methods in python to display these three view objects for the given dictionary."
   ]
  },
  {
   "cell_type": "markdown",
   "id": "069b893a",
   "metadata": {},
   "source": [
    "The three view objects in dictionaries are:\n",
    "\n",
    "1. dict_keys: This view object contains the keys of the dictionary as a set-like object. You can use it to check if a specific key is in the dictionary, or to iterate over the keys in the dictionary.\n",
    "\n",
    "2. dict_values: This view object contains the values of the dictionary as a set-like object. You can use it to check if a specific value is in the dictionary, or to iterate over the values in the dictionary.\n",
    "\n",
    "3. dict_items: This view object contains the key-value pairs of the dictionary as a set-like object of tuples. You can use it to iterate over the key-value pairs in the dictionary, or to check if a specific key-value pair is in the dictionary."
   ]
  },
  {
   "cell_type": "code",
   "execution_count": 10,
   "id": "4eba126b",
   "metadata": {},
   "outputs": [],
   "source": [
    "dict3 = {'Sport': 'Cricket' , 'Teams': ['India', 'Australia', 'England', 'South Africa', 'Sri Lanka', 'New Zealand']}"
   ]
  },
  {
   "cell_type": "code",
   "execution_count": 11,
   "id": "cac4f9e1",
   "metadata": {},
   "outputs": [
    {
     "data": {
      "text/plain": [
       "dict_keys(['Sport', 'Teams'])"
      ]
     },
     "execution_count": 11,
     "metadata": {},
     "output_type": "execute_result"
    }
   ],
   "source": [
    "# 1.\n",
    "dict3.keys()"
   ]
  },
  {
   "cell_type": "code",
   "execution_count": 12,
   "id": "eb21f04e",
   "metadata": {},
   "outputs": [
    {
     "data": {
      "text/plain": [
       "dict_values(['Cricket', ['India', 'Australia', 'England', 'South Africa', 'Sri Lanka', 'New Zealand']])"
      ]
     },
     "execution_count": 12,
     "metadata": {},
     "output_type": "execute_result"
    }
   ],
   "source": [
    "# 2.\n",
    "dict3.values()"
   ]
  },
  {
   "cell_type": "code",
   "execution_count": 13,
   "id": "b913f196",
   "metadata": {},
   "outputs": [
    {
     "data": {
      "text/plain": [
       "dict_items([('Sport', 'Cricket'), ('Teams', ['India', 'Australia', 'England', 'South Africa', 'Sri Lanka', 'New Zealand'])])"
      ]
     },
     "execution_count": 13,
     "metadata": {},
     "output_type": "execute_result"
    }
   ],
   "source": [
    "# 3.\n",
    "dict3.items()"
   ]
  },
  {
   "cell_type": "markdown",
   "id": "5d212e1b",
   "metadata": {},
   "source": [
    "#                                      Thank You"
   ]
  }
 ],
 "metadata": {
  "kernelspec": {
   "display_name": "Python 3 (ipykernel)",
   "language": "python",
   "name": "python3"
  },
  "language_info": {
   "codemirror_mode": {
    "name": "ipython",
    "version": 3
   },
   "file_extension": ".py",
   "mimetype": "text/x-python",
   "name": "python",
   "nbconvert_exporter": "python",
   "pygments_lexer": "ipython3",
   "version": "3.9.13"
  }
 },
 "nbformat": 4,
 "nbformat_minor": 5
}
